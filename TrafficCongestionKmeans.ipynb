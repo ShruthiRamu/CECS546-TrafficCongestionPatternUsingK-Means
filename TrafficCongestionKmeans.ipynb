{
 "cells": [
  {
   "cell_type": "code",
   "execution_count": 1,
   "metadata": {},
   "outputs": [
    {
     "name": "stdout",
     "output_type": "stream",
     "text": [
      "All required libraries loaded!\n"
     ]
    }
   ],
   "source": [
    "#for loading data and for performing data analysis operations on it\n",
    "import pandas as pd\n",
    "import numpy as np\n",
    "\n",
    "#for data visualization\n",
    "import seaborn as sns \n",
    "import matplotlib.pyplot as plt\n",
    "\n",
    "#for PCA (feature engineering)\n",
    "from sklearn.decomposition import PCA\n",
    "\n",
    "#for data scaling\n",
    "from sklearn.preprocessing import StandardScaler\n",
    "\n",
    "#for splitting dataset\n",
    "from sklearn.model_selection import train_test_split\n",
    "\n",
    "#for fitting SVM model\n",
    "from sklearn.svm import SVC\n",
    "\n",
    "#foe fitting Kmeans model\n",
    "from sklearn.cluster import KMeans\n",
    "\n",
    "#for displaying evaluation metrics\n",
    "from sklearn.metrics import classification_report\n",
    "from sklearn.metrics import confusion_matrix\n",
    "\n",
    "#for file operations\n",
    "import os\n",
    "\n",
    "print(\"All required libraries loaded!\")"
   ]
  },
  {
   "cell_type": "code",
   "execution_count": 2,
   "metadata": {},
   "outputs": [
    {
     "name": "stderr",
     "output_type": "stream",
     "text": [
      "/opt/anaconda3/lib/python3.7/site-packages/IPython/core/interactiveshell.py:3058: DtypeWarning: Columns (2) have mixed types. Specify dtype option on import or set low_memory=False.\n",
      "  interactivity=interactivity, compiler=compiler, result=result)\n"
     ]
    },
    {
     "name": "stdout",
     "output_type": "stream",
     "text": [
      "(134380371, 8)\n",
      "There are 134380371 rows in dataset\n"
     ]
    },
    {
     "data": {
      "text/html": [
       "<div>\n",
       "<style scoped>\n",
       "    .dataframe tbody tr th:only-of-type {\n",
       "        vertical-align: middle;\n",
       "    }\n",
       "\n",
       "    .dataframe tbody tr th {\n",
       "        vertical-align: top;\n",
       "    }\n",
       "\n",
       "    .dataframe thead th {\n",
       "        text-align: right;\n",
       "    }\n",
       "</style>\n",
       "<table border=\"1\" class=\"dataframe\">\n",
       "  <thead>\n",
       "    <tr style=\"text-align: right;\">\n",
       "      <th></th>\n",
       "      <th>day</th>\n",
       "      <th>interval</th>\n",
       "      <th>detid</th>\n",
       "      <th>flow</th>\n",
       "      <th>occ</th>\n",
       "      <th>error</th>\n",
       "      <th>city</th>\n",
       "      <th>speed</th>\n",
       "    </tr>\n",
       "  </thead>\n",
       "  <tbody>\n",
       "    <tr>\n",
       "      <td>0</td>\n",
       "      <td>2017-05-06</td>\n",
       "      <td>0</td>\n",
       "      <td>06.X-2li</td>\n",
       "      <td>12.0</td>\n",
       "      <td>0.0</td>\n",
       "      <td>1.0</td>\n",
       "      <td>augsburg</td>\n",
       "      <td>NaN</td>\n",
       "    </tr>\n",
       "    <tr>\n",
       "      <td>1</td>\n",
       "      <td>2017-05-06</td>\n",
       "      <td>300</td>\n",
       "      <td>06.X-2li</td>\n",
       "      <td>12.0</td>\n",
       "      <td>0.0</td>\n",
       "      <td>1.0</td>\n",
       "      <td>augsburg</td>\n",
       "      <td>NaN</td>\n",
       "    </tr>\n",
       "    <tr>\n",
       "      <td>2</td>\n",
       "      <td>2017-05-06</td>\n",
       "      <td>600</td>\n",
       "      <td>06.X-2li</td>\n",
       "      <td>12.0</td>\n",
       "      <td>0.0</td>\n",
       "      <td>1.0</td>\n",
       "      <td>augsburg</td>\n",
       "      <td>NaN</td>\n",
       "    </tr>\n",
       "    <tr>\n",
       "      <td>3</td>\n",
       "      <td>2017-05-06</td>\n",
       "      <td>900</td>\n",
       "      <td>06.X-2li</td>\n",
       "      <td>16.0</td>\n",
       "      <td>0.0</td>\n",
       "      <td>1.0</td>\n",
       "      <td>augsburg</td>\n",
       "      <td>NaN</td>\n",
       "    </tr>\n",
       "    <tr>\n",
       "      <td>4</td>\n",
       "      <td>2017-05-06</td>\n",
       "      <td>1200</td>\n",
       "      <td>06.X-2li</td>\n",
       "      <td>16.0</td>\n",
       "      <td>0.0</td>\n",
       "      <td>1.0</td>\n",
       "      <td>augsburg</td>\n",
       "      <td>NaN</td>\n",
       "    </tr>\n",
       "  </tbody>\n",
       "</table>\n",
       "</div>"
      ],
      "text/plain": [
       "          day  interval     detid  flow  occ  error      city  speed\n",
       "0  2017-05-06         0  06.X-2li  12.0  0.0    1.0  augsburg    NaN\n",
       "1  2017-05-06       300  06.X-2li  12.0  0.0    1.0  augsburg    NaN\n",
       "2  2017-05-06       600  06.X-2li  12.0  0.0    1.0  augsburg    NaN\n",
       "3  2017-05-06       900  06.X-2li  16.0  0.0    1.0  augsburg    NaN\n",
       "4  2017-05-06      1200  06.X-2li  16.0  0.0    1.0  augsburg    NaN"
      ]
     },
     "execution_count": 2,
     "metadata": {},
     "output_type": "execute_result"
    }
   ],
   "source": [
    "#import the raw data\n",
    "raw_data = pd.read_csv(\"data.csv\")\n",
    "print(raw_data.shape)\n",
    "print(f\"There are {raw_data.shape[0]} rows in dataset\")\n",
    "raw_data.head()"
   ]
  },
  {
   "cell_type": "code",
   "execution_count": 3,
   "metadata": {},
   "outputs": [
    {
     "data": {
      "text/plain": [
       "day          object\n",
       "interval      int64\n",
       "detid        object\n",
       "flow        float64\n",
       "occ         float64\n",
       "error       float64\n",
       "city         object\n",
       "speed       float64\n",
       "dtype: object"
      ]
     },
     "execution_count": 3,
     "metadata": {},
     "output_type": "execute_result"
    }
   ],
   "source": [
    "#check the data types of all the attributes loaded into the dataframe\n",
    "raw_data.dtypes"
   ]
  },
  {
   "cell_type": "code",
   "execution_count": 4,
   "metadata": {},
   "outputs": [
    {
     "data": {
      "text/html": [
       "<div>\n",
       "<style scoped>\n",
       "    .dataframe tbody tr th:only-of-type {\n",
       "        vertical-align: middle;\n",
       "    }\n",
       "\n",
       "    .dataframe tbody tr th {\n",
       "        vertical-align: top;\n",
       "    }\n",
       "\n",
       "    .dataframe thead th {\n",
       "        text-align: right;\n",
       "    }\n",
       "</style>\n",
       "<table border=\"1\" class=\"dataframe\">\n",
       "  <thead>\n",
       "    <tr style=\"text-align: right;\">\n",
       "      <th></th>\n",
       "      <th>day</th>\n",
       "      <th>interval</th>\n",
       "      <th>detid</th>\n",
       "      <th>flow</th>\n",
       "      <th>occ</th>\n",
       "      <th>error</th>\n",
       "      <th>city</th>\n",
       "      <th>speed</th>\n",
       "    </tr>\n",
       "  </thead>\n",
       "  <tbody>\n",
       "    <tr>\n",
       "      <td>0</td>\n",
       "      <td>2017-05-06</td>\n",
       "      <td>0</td>\n",
       "      <td>06.X-2li</td>\n",
       "      <td>12.0</td>\n",
       "      <td>0.0</td>\n",
       "      <td>1.0</td>\n",
       "      <td>augsburg</td>\n",
       "      <td>NaN</td>\n",
       "    </tr>\n",
       "    <tr>\n",
       "      <td>1</td>\n",
       "      <td>2017-05-06</td>\n",
       "      <td>300</td>\n",
       "      <td>06.X-2li</td>\n",
       "      <td>12.0</td>\n",
       "      <td>0.0</td>\n",
       "      <td>1.0</td>\n",
       "      <td>augsburg</td>\n",
       "      <td>NaN</td>\n",
       "    </tr>\n",
       "    <tr>\n",
       "      <td>2</td>\n",
       "      <td>2017-05-06</td>\n",
       "      <td>600</td>\n",
       "      <td>06.X-2li</td>\n",
       "      <td>12.0</td>\n",
       "      <td>0.0</td>\n",
       "      <td>1.0</td>\n",
       "      <td>augsburg</td>\n",
       "      <td>NaN</td>\n",
       "    </tr>\n",
       "    <tr>\n",
       "      <td>3</td>\n",
       "      <td>2017-05-06</td>\n",
       "      <td>900</td>\n",
       "      <td>06.X-2li</td>\n",
       "      <td>16.0</td>\n",
       "      <td>0.0</td>\n",
       "      <td>1.0</td>\n",
       "      <td>augsburg</td>\n",
       "      <td>NaN</td>\n",
       "    </tr>\n",
       "    <tr>\n",
       "      <td>4</td>\n",
       "      <td>2017-05-06</td>\n",
       "      <td>1200</td>\n",
       "      <td>06.X-2li</td>\n",
       "      <td>16.0</td>\n",
       "      <td>0.0</td>\n",
       "      <td>1.0</td>\n",
       "      <td>augsburg</td>\n",
       "      <td>NaN</td>\n",
       "    </tr>\n",
       "  </tbody>\n",
       "</table>\n",
       "</div>"
      ],
      "text/plain": [
       "          day  interval     detid  flow  occ  error      city  speed\n",
       "0  2017-05-06         0  06.X-2li  12.0  0.0    1.0  augsburg    NaN\n",
       "1  2017-05-06       300  06.X-2li  12.0  0.0    1.0  augsburg    NaN\n",
       "2  2017-05-06       600  06.X-2li  12.0  0.0    1.0  augsburg    NaN\n",
       "3  2017-05-06       900  06.X-2li  16.0  0.0    1.0  augsburg    NaN\n",
       "4  2017-05-06      1200  06.X-2li  16.0  0.0    1.0  augsburg    NaN"
      ]
     },
     "execution_count": 4,
     "metadata": {},
     "output_type": "execute_result"
    }
   ],
   "source": [
    "#see first few rows of the data loaded\n",
    "raw_data.head()"
   ]
  },
  {
   "cell_type": "code",
   "execution_count": 5,
   "metadata": {},
   "outputs": [
    {
     "data": {
      "text/html": [
       "<div>\n",
       "<style scoped>\n",
       "    .dataframe tbody tr th:only-of-type {\n",
       "        vertical-align: middle;\n",
       "    }\n",
       "\n",
       "    .dataframe tbody tr th {\n",
       "        vertical-align: top;\n",
       "    }\n",
       "\n",
       "    .dataframe thead th {\n",
       "        text-align: right;\n",
       "    }\n",
       "</style>\n",
       "<table border=\"1\" class=\"dataframe\">\n",
       "  <thead>\n",
       "    <tr style=\"text-align: right;\">\n",
       "      <th></th>\n",
       "      <th>day</th>\n",
       "      <th>interval</th>\n",
       "      <th>detid</th>\n",
       "      <th>flow</th>\n",
       "      <th>occ</th>\n",
       "      <th>error</th>\n",
       "      <th>city</th>\n",
       "      <th>speed</th>\n",
       "    </tr>\n",
       "  </thead>\n",
       "  <tbody>\n",
       "    <tr>\n",
       "      <td>134380366</td>\n",
       "      <td>2015-11-01</td>\n",
       "      <td>85500</td>\n",
       "      <td>K8D20</td>\n",
       "      <td>120.0</td>\n",
       "      <td>0.015556</td>\n",
       "      <td>0.0</td>\n",
       "      <td>zurich</td>\n",
       "      <td>NaN</td>\n",
       "    </tr>\n",
       "    <tr>\n",
       "      <td>134380367</td>\n",
       "      <td>2015-11-01</td>\n",
       "      <td>85680</td>\n",
       "      <td>K8D20</td>\n",
       "      <td>120.0</td>\n",
       "      <td>0.017778</td>\n",
       "      <td>0.0</td>\n",
       "      <td>zurich</td>\n",
       "      <td>NaN</td>\n",
       "    </tr>\n",
       "    <tr>\n",
       "      <td>134380368</td>\n",
       "      <td>2015-11-01</td>\n",
       "      <td>85860</td>\n",
       "      <td>K8D20</td>\n",
       "      <td>120.0</td>\n",
       "      <td>0.014444</td>\n",
       "      <td>0.0</td>\n",
       "      <td>zurich</td>\n",
       "      <td>NaN</td>\n",
       "    </tr>\n",
       "    <tr>\n",
       "      <td>134380369</td>\n",
       "      <td>2015-11-01</td>\n",
       "      <td>86040</td>\n",
       "      <td>K8D20</td>\n",
       "      <td>200.0</td>\n",
       "      <td>0.028333</td>\n",
       "      <td>0.0</td>\n",
       "      <td>zurich</td>\n",
       "      <td>NaN</td>\n",
       "    </tr>\n",
       "    <tr>\n",
       "      <td>134380370</td>\n",
       "      <td>2015-11-01</td>\n",
       "      <td>86220</td>\n",
       "      <td>K8D20</td>\n",
       "      <td>180.0</td>\n",
       "      <td>0.024444</td>\n",
       "      <td>0.0</td>\n",
       "      <td>zurich</td>\n",
       "      <td>NaN</td>\n",
       "    </tr>\n",
       "  </tbody>\n",
       "</table>\n",
       "</div>"
      ],
      "text/plain": [
       "                  day  interval  detid   flow       occ  error    city  speed\n",
       "134380366  2015-11-01     85500  K8D20  120.0  0.015556    0.0  zurich    NaN\n",
       "134380367  2015-11-01     85680  K8D20  120.0  0.017778    0.0  zurich    NaN\n",
       "134380368  2015-11-01     85860  K8D20  120.0  0.014444    0.0  zurich    NaN\n",
       "134380369  2015-11-01     86040  K8D20  200.0  0.028333    0.0  zurich    NaN\n",
       "134380370  2015-11-01     86220  K8D20  180.0  0.024444    0.0  zurich    NaN"
      ]
     },
     "execution_count": 5,
     "metadata": {},
     "output_type": "execute_result"
    }
   ],
   "source": [
    "#see last few rows of the data loaded\n",
    "raw_data.tail()"
   ]
  },
  {
   "cell_type": "code",
   "execution_count": 6,
   "metadata": {},
   "outputs": [
    {
     "data": {
      "text/plain": [
       "day                 0\n",
       "interval            0\n",
       "detid               0\n",
       "flow                0\n",
       "occ           3279527\n",
       "error        59193481\n",
       "city                0\n",
       "speed       129750416\n",
       "dtype: int64"
      ]
     },
     "execution_count": 6,
     "metadata": {},
     "output_type": "execute_result"
    }
   ],
   "source": [
    "#Check for any missing value\n",
    "raw_data.isnull().sum()\n",
    "raw_data.isna().sum()"
   ]
  },
  {
   "cell_type": "code",
   "execution_count": 7,
   "metadata": {},
   "outputs": [],
   "source": [
    "raw_data=raw_data.dropna()"
   ]
  },
  {
   "cell_type": "code",
   "execution_count": 8,
   "metadata": {},
   "outputs": [
    {
     "data": {
      "text/html": [
       "<div>\n",
       "<style scoped>\n",
       "    .dataframe tbody tr th:only-of-type {\n",
       "        vertical-align: middle;\n",
       "    }\n",
       "\n",
       "    .dataframe tbody tr th {\n",
       "        vertical-align: top;\n",
       "    }\n",
       "\n",
       "    .dataframe thead th {\n",
       "        text-align: right;\n",
       "    }\n",
       "</style>\n",
       "<table border=\"1\" class=\"dataframe\">\n",
       "  <thead>\n",
       "    <tr style=\"text-align: right;\">\n",
       "      <th></th>\n",
       "      <th>day</th>\n",
       "      <th>interval</th>\n",
       "      <th>detid</th>\n",
       "      <th>flow</th>\n",
       "      <th>occ</th>\n",
       "      <th>error</th>\n",
       "      <th>city</th>\n",
       "      <th>speed</th>\n",
       "    </tr>\n",
       "  </thead>\n",
       "  <tbody>\n",
       "    <tr>\n",
       "      <td>5237304</td>\n",
       "      <td>2017-11-13</td>\n",
       "      <td>30900</td>\n",
       "      <td>N51141G</td>\n",
       "      <td>1116.0</td>\n",
       "      <td>39.857143</td>\n",
       "      <td>1.0</td>\n",
       "      <td>bolton</td>\n",
       "      <td>28.0</td>\n",
       "    </tr>\n",
       "    <tr>\n",
       "      <td>5237305</td>\n",
       "      <td>2017-11-13</td>\n",
       "      <td>30900</td>\n",
       "      <td>N51151A</td>\n",
       "      <td>312.0</td>\n",
       "      <td>8.210526</td>\n",
       "      <td>1.0</td>\n",
       "      <td>bolton</td>\n",
       "      <td>38.0</td>\n",
       "    </tr>\n",
       "    <tr>\n",
       "      <td>5237306</td>\n",
       "      <td>2017-11-13</td>\n",
       "      <td>30900</td>\n",
       "      <td>N51151B</td>\n",
       "      <td>792.0</td>\n",
       "      <td>29.333333</td>\n",
       "      <td>1.0</td>\n",
       "      <td>bolton</td>\n",
       "      <td>27.0</td>\n",
       "    </tr>\n",
       "    <tr>\n",
       "      <td>5237307</td>\n",
       "      <td>2017-11-13</td>\n",
       "      <td>30900</td>\n",
       "      <td>N51151D</td>\n",
       "      <td>720.0</td>\n",
       "      <td>22.500000</td>\n",
       "      <td>1.0</td>\n",
       "      <td>bolton</td>\n",
       "      <td>32.0</td>\n",
       "    </tr>\n",
       "    <tr>\n",
       "      <td>5237308</td>\n",
       "      <td>2017-11-13</td>\n",
       "      <td>30900</td>\n",
       "      <td>N51161W</td>\n",
       "      <td>936.0</td>\n",
       "      <td>42.545455</td>\n",
       "      <td>1.0</td>\n",
       "      <td>bolton</td>\n",
       "      <td>22.0</td>\n",
       "    </tr>\n",
       "  </tbody>\n",
       "</table>\n",
       "</div>"
      ],
      "text/plain": [
       "                day  interval    detid    flow        occ  error    city  \\\n",
       "5237304  2017-11-13     30900  N51141G  1116.0  39.857143    1.0  bolton   \n",
       "5237305  2017-11-13     30900  N51151A   312.0   8.210526    1.0  bolton   \n",
       "5237306  2017-11-13     30900  N51151B   792.0  29.333333    1.0  bolton   \n",
       "5237307  2017-11-13     30900  N51151D   720.0  22.500000    1.0  bolton   \n",
       "5237308  2017-11-13     30900  N51161W   936.0  42.545455    1.0  bolton   \n",
       "\n",
       "         speed  \n",
       "5237304   28.0  \n",
       "5237305   38.0  \n",
       "5237306   27.0  \n",
       "5237307   32.0  \n",
       "5237308   22.0  "
      ]
     },
     "execution_count": 8,
     "metadata": {},
     "output_type": "execute_result"
    }
   ],
   "source": [
    "#Check for any missing value\n",
    "raw_data.isnull().sum()\n",
    "raw_data.isna().sum()\n",
    "raw_data.head()"
   ]
  },
  {
   "cell_type": "code",
   "execution_count": 9,
   "metadata": {},
   "outputs": [
    {
     "data": {
      "text/plain": [
       "array(['bolton', 'constance', 'essen', 'groningen', 'manchester',\n",
       "       'rotterdam', 'torino'], dtype=object)"
      ]
     },
     "execution_count": 9,
     "metadata": {},
     "output_type": "execute_result"
    }
   ],
   "source": [
    "#raw_data.loc[raw_data['city'] == bolton]\n",
    "raw_data.city.unique()"
   ]
  },
  {
   "cell_type": "code",
   "execution_count": 10,
   "metadata": {},
   "outputs": [
    {
     "data": {
      "text/plain": [
       "array([ 28.,  38.,  27., ..., 176., 165., 172.])"
      ]
     },
     "execution_count": 10,
     "metadata": {},
     "output_type": "execute_result"
    }
   ],
   "source": [
    "raw_data.speed.unique()"
   ]
  },
  {
   "cell_type": "code",
   "execution_count": 11,
   "metadata": {},
   "outputs": [
    {
     "data": {
      "text/plain": [
       "array([ 1116.,   312.,   792., ...,  4680.,  5052., 19800.])"
      ]
     },
     "execution_count": 11,
     "metadata": {},
     "output_type": "execute_result"
    }
   ],
   "source": [
    "raw_data.flow.unique()"
   ]
  },
  {
   "cell_type": "code",
   "execution_count": 12,
   "metadata": {},
   "outputs": [
    {
     "data": {
      "text/plain": [
       "(185943, 8)"
      ]
     },
     "execution_count": 12,
     "metadata": {},
     "output_type": "execute_result"
    }
   ],
   "source": [
    "#manchester_data = raw_data.loc[raw_data['city'] == 'manchester']\n",
    "manchester_data = raw_data.loc[raw_data['city'] == 'bolton']\n",
    "\n",
    "#manchester_data.head()\n",
    "manchester_data.shape\n",
    "#manchester_data.tail()"
   ]
  },
  {
   "cell_type": "code",
   "execution_count": 13,
   "metadata": {},
   "outputs": [
    {
     "data": {
      "text/plain": [
       "(132421, 8)"
      ]
     },
     "execution_count": 13,
     "metadata": {},
     "output_type": "execute_result"
    }
   ],
   "source": [
    "#manchester_data= manchester_data[manchester_data['speed'] != 0]\n",
    "manchester_data = manchester_data.loc[manchester_data['speed'] != 0]\n",
    "\n",
    "manchester_data.shape\n"
   ]
  },
  {
   "cell_type": "code",
   "execution_count": 14,
   "metadata": {},
   "outputs": [
    {
     "data": {
      "text/plain": [
       "(1742, 8)"
      ]
     },
     "execution_count": 14,
     "metadata": {},
     "output_type": "execute_result"
    }
   ],
   "source": [
    "manchester_data= manchester_data.loc[(manchester_data['speed'] >= 50) & (manchester_data['speed'] <= 75) & (manchester_data['flow'] >= 100)\n",
    "                                    & (manchester_data['flow'] <= 1000)]\n",
    "manchester_data.shape\n",
    "#speed 60 - 75 and flow 100-1500(1000) gives us 32 data points\n",
    "#speed 50 - 75 and flow 100-1500(1000) gives us 1743 data points and pretty graph\n"
   ]
  },
  {
   "cell_type": "code",
   "execution_count": 28,
   "metadata": {},
   "outputs": [
    {
     "data": {
      "text/html": [
       "<div>\n",
       "<style scoped>\n",
       "    .dataframe tbody tr th:only-of-type {\n",
       "        vertical-align: middle;\n",
       "    }\n",
       "\n",
       "    .dataframe tbody tr th {\n",
       "        vertical-align: top;\n",
       "    }\n",
       "\n",
       "    .dataframe thead th {\n",
       "        text-align: right;\n",
       "    }\n",
       "</style>\n",
       "<table border=\"1\" class=\"dataframe\">\n",
       "  <thead>\n",
       "    <tr style=\"text-align: right;\">\n",
       "      <th></th>\n",
       "      <th>day</th>\n",
       "      <th>interval</th>\n",
       "      <th>detid</th>\n",
       "      <th>flow</th>\n",
       "      <th>occ</th>\n",
       "      <th>error</th>\n",
       "      <th>city</th>\n",
       "      <th>speed</th>\n",
       "    </tr>\n",
       "  </thead>\n",
       "  <tbody>\n",
       "    <tr>\n",
       "      <td>5237367</td>\n",
       "      <td>2017-11-13</td>\n",
       "      <td>30900</td>\n",
       "      <td>N51311Z</td>\n",
       "      <td>480.0</td>\n",
       "      <td>9.056604</td>\n",
       "      <td>1.0</td>\n",
       "      <td>bolton</td>\n",
       "      <td>53.0</td>\n",
       "    </tr>\n",
       "    <tr>\n",
       "      <td>5237442</td>\n",
       "      <td>2017-11-13</td>\n",
       "      <td>30900</td>\n",
       "      <td>N53261W</td>\n",
       "      <td>960.0</td>\n",
       "      <td>18.823529</td>\n",
       "      <td>1.0</td>\n",
       "      <td>bolton</td>\n",
       "      <td>51.0</td>\n",
       "    </tr>\n",
       "    <tr>\n",
       "      <td>5237443</td>\n",
       "      <td>2017-11-13</td>\n",
       "      <td>30900</td>\n",
       "      <td>N53261Y</td>\n",
       "      <td>144.0</td>\n",
       "      <td>2.360656</td>\n",
       "      <td>1.0</td>\n",
       "      <td>bolton</td>\n",
       "      <td>61.0</td>\n",
       "    </tr>\n",
       "    <tr>\n",
       "      <td>5237533</td>\n",
       "      <td>2017-11-13</td>\n",
       "      <td>31200</td>\n",
       "      <td>N51311Z</td>\n",
       "      <td>480.0</td>\n",
       "      <td>9.056604</td>\n",
       "      <td>1.0</td>\n",
       "      <td>bolton</td>\n",
       "      <td>53.0</td>\n",
       "    </tr>\n",
       "    <tr>\n",
       "      <td>5237609</td>\n",
       "      <td>2017-11-13</td>\n",
       "      <td>31200</td>\n",
       "      <td>N53261Y</td>\n",
       "      <td>180.0</td>\n",
       "      <td>2.571429</td>\n",
       "      <td>1.0</td>\n",
       "      <td>bolton</td>\n",
       "      <td>70.0</td>\n",
       "    </tr>\n",
       "  </tbody>\n",
       "</table>\n",
       "</div>"
      ],
      "text/plain": [
       "                day  interval    detid   flow        occ  error    city  speed\n",
       "5237367  2017-11-13     30900  N51311Z  480.0   9.056604    1.0  bolton   53.0\n",
       "5237442  2017-11-13     30900  N53261W  960.0  18.823529    1.0  bolton   51.0\n",
       "5237443  2017-11-13     30900  N53261Y  144.0   2.360656    1.0  bolton   61.0\n",
       "5237533  2017-11-13     31200  N51311Z  480.0   9.056604    1.0  bolton   53.0\n",
       "5237609  2017-11-13     31200  N53261Y  180.0   2.571429    1.0  bolton   70.0"
      ]
     },
     "execution_count": 28,
     "metadata": {},
     "output_type": "execute_result"
    }
   ],
   "source": [
    "manchester_data.head()"
   ]
  },
  {
   "cell_type": "code",
   "execution_count": 15,
   "metadata": {},
   "outputs": [
    {
     "name": "stdout",
     "output_type": "stream",
     "text": [
      "<class 'pandas.core.frame.DataFrame'>\n",
      "Int64Index: 1742 entries, 5237367 to 5484043\n",
      "Data columns (total 8 columns):\n",
      "day         1742 non-null object\n",
      "interval    1742 non-null int64\n",
      "detid       1742 non-null object\n",
      "flow        1742 non-null float64\n",
      "occ         1742 non-null float64\n",
      "error       1742 non-null float64\n",
      "city        1742 non-null object\n",
      "speed       1742 non-null float64\n",
      "dtypes: float64(4), int64(1), object(3)\n",
      "memory usage: 122.5+ KB\n"
     ]
    }
   ],
   "source": [
    "#raw_data.info()\n",
    "manchester_data.info()"
   ]
  },
  {
   "cell_type": "code",
   "execution_count": 16,
   "metadata": {},
   "outputs": [
    {
     "data": {
      "text/html": [
       "<div>\n",
       "<style scoped>\n",
       "    .dataframe tbody tr th:only-of-type {\n",
       "        vertical-align: middle;\n",
       "    }\n",
       "\n",
       "    .dataframe tbody tr th {\n",
       "        vertical-align: top;\n",
       "    }\n",
       "\n",
       "    .dataframe thead th {\n",
       "        text-align: right;\n",
       "    }\n",
       "</style>\n",
       "<table border=\"1\" class=\"dataframe\">\n",
       "  <thead>\n",
       "    <tr style=\"text-align: right;\">\n",
       "      <th></th>\n",
       "      <th>interval</th>\n",
       "      <th>flow</th>\n",
       "      <th>occ</th>\n",
       "      <th>error</th>\n",
       "      <th>speed</th>\n",
       "    </tr>\n",
       "  </thead>\n",
       "  <tbody>\n",
       "    <tr>\n",
       "      <td>count</td>\n",
       "      <td>1742.000000</td>\n",
       "      <td>1742.000000</td>\n",
       "      <td>1742.000000</td>\n",
       "      <td>1742.0</td>\n",
       "      <td>1742.000000</td>\n",
       "    </tr>\n",
       "    <tr>\n",
       "      <td>mean</td>\n",
       "      <td>43266.647532</td>\n",
       "      <td>440.207807</td>\n",
       "      <td>8.288871</td>\n",
       "      <td>1.0</td>\n",
       "      <td>53.306664</td>\n",
       "    </tr>\n",
       "    <tr>\n",
       "      <td>std</td>\n",
       "      <td>24752.560334</td>\n",
       "      <td>111.917384</td>\n",
       "      <td>2.144968</td>\n",
       "      <td>0.0</td>\n",
       "      <td>2.075549</td>\n",
       "    </tr>\n",
       "    <tr>\n",
       "      <td>min</td>\n",
       "      <td>0.000000</td>\n",
       "      <td>102.000000</td>\n",
       "      <td>1.611940</td>\n",
       "      <td>1.0</td>\n",
       "      <td>50.019417</td>\n",
       "    </tr>\n",
       "    <tr>\n",
       "      <td>25%</td>\n",
       "      <td>23100.000000</td>\n",
       "      <td>480.000000</td>\n",
       "      <td>9.056604</td>\n",
       "      <td>1.0</td>\n",
       "      <td>53.000000</td>\n",
       "    </tr>\n",
       "    <tr>\n",
       "      <td>50%</td>\n",
       "      <td>42300.000000</td>\n",
       "      <td>480.000000</td>\n",
       "      <td>9.056604</td>\n",
       "      <td>1.0</td>\n",
       "      <td>53.000000</td>\n",
       "    </tr>\n",
       "    <tr>\n",
       "      <td>75%</td>\n",
       "      <td>64800.000000</td>\n",
       "      <td>480.000000</td>\n",
       "      <td>9.056604</td>\n",
       "      <td>1.0</td>\n",
       "      <td>53.000000</td>\n",
       "    </tr>\n",
       "    <tr>\n",
       "      <td>max</td>\n",
       "      <td>86100.000000</td>\n",
       "      <td>960.000000</td>\n",
       "      <td>18.823529</td>\n",
       "      <td>1.0</td>\n",
       "      <td>74.000000</td>\n",
       "    </tr>\n",
       "  </tbody>\n",
       "</table>\n",
       "</div>"
      ],
      "text/plain": [
       "           interval         flow          occ   error        speed\n",
       "count   1742.000000  1742.000000  1742.000000  1742.0  1742.000000\n",
       "mean   43266.647532   440.207807     8.288871     1.0    53.306664\n",
       "std    24752.560334   111.917384     2.144968     0.0     2.075549\n",
       "min        0.000000   102.000000     1.611940     1.0    50.019417\n",
       "25%    23100.000000   480.000000     9.056604     1.0    53.000000\n",
       "50%    42300.000000   480.000000     9.056604     1.0    53.000000\n",
       "75%    64800.000000   480.000000     9.056604     1.0    53.000000\n",
       "max    86100.000000   960.000000    18.823529     1.0    74.000000"
      ]
     },
     "execution_count": 16,
     "metadata": {},
     "output_type": "execute_result"
    }
   ],
   "source": [
    "#raw_data.describe()\n",
    "manchester_data.describe()"
   ]
  },
  {
   "cell_type": "code",
   "execution_count": 17,
   "metadata": {},
   "outputs": [
    {
     "data": {
      "text/plain": [
       "day          object\n",
       "interval      int64\n",
       "detid        object\n",
       "flow        float64\n",
       "occ         float64\n",
       "error       float64\n",
       "city         object\n",
       "speed       float64\n",
       "dtype: object"
      ]
     },
     "execution_count": 17,
     "metadata": {},
     "output_type": "execute_result"
    }
   ],
   "source": [
    "#raw_data.dtypes\n",
    "manchester_data.dtypes"
   ]
  },
  {
   "cell_type": "code",
   "execution_count": 18,
   "metadata": {},
   "outputs": [
    {
     "name": "stdout",
     "output_type": "stream",
     "text": [
      "day\n",
      "interval\n",
      "detid\n",
      "flow\n",
      "occ\n",
      "error\n",
      "city\n",
      "speed\n"
     ]
    }
   ],
   "source": [
    "#for col in raw_data.columns:\n",
    " #   print(col)\n",
    "for col in manchester_data.columns:\n",
    "    print(col)"
   ]
  },
  {
   "cell_type": "code",
   "execution_count": 19,
   "metadata": {},
   "outputs": [
    {
     "name": "stdout",
     "output_type": "stream",
     "text": [
      "[[480.  53.]\n",
      " [960.  51.]\n",
      " [144.  61.]\n",
      " ...\n",
      " [108.  67.]\n",
      " [480.  53.]\n",
      " [480.  53.]]\n"
     ]
    }
   ],
   "source": [
    "#X = raw_data.iloc[:,[3,7]].values\n",
    "X = manchester_data.iloc[:,[3,7]].values\n",
    "print (X)"
   ]
  },
  {
   "cell_type": "code",
   "execution_count": 20,
   "metadata": {},
   "outputs": [
    {
     "data": {
      "image/png": "[encoded data removed]",
      "text/plain": [
       "<Figure size 432x288 with 1 Axes>"
      ]
     },
     "metadata": {
      "needs_background": "light"
     },
     "output_type": "display_data"
    }
   ],
   "source": [
    "#elbow method\n",
    "wcss = []\n",
    "for i in range(1,11):\n",
    "    k_means = KMeans(n_clusters=i,init='k-means++', random_state=42)\n",
    "    k_means.fit(X)\n",
    "    wcss.append(k_means.inertia_)\n",
    "#plot elbow curve\n",
    "plt.plot(np.arange(1,11),wcss)\n",
    "plt.xlabel('Clusters')\n",
    "plt.ylabel('SSE')\n",
    "plt.show()"
   ]
  },
  {
   "cell_type": "code",
   "execution_count": 21,
   "metadata": {},
   "outputs": [
    {
     "data": {
      "image/png": "[encoded data removed]",
      "text/plain": [
       "<Figure size 432x288 with 1 Axes>"
      ]
     },
     "metadata": {
      "needs_background": "light"
     },
     "output_type": "display_data"
    }
   ],
   "source": [
    "k_means_optimum = KMeans(n_clusters = 4, init = 'k-means++',  random_state=42)#42\n",
    "k_means_optimum.fit(X)\n",
    "y = k_means_optimum.fit_predict(X)\n",
    "\n",
    "# Plot the data\n",
    "plt.scatter(X[:, 0], \n",
    "            X[:, 1])\n",
    "\n",
    "# Plot the clusters \n",
    "plt.scatter(k_means_optimum.cluster_centers_[:, 0], \n",
    "            k_means_optimum.cluster_centers_[:, 1], \n",
    "            s=100,                             # Set centroid size\n",
    "            c='red')                           # Set centroid color\n",
    "\n",
    "plt.xlabel(\"Density\")\n",
    "plt.ylabel(\"Average Speed\")\n",
    "plt.show()\n",
    "\n",
    "#print(y)"
   ]
  },
  {
   "cell_type": "code",
   "execution_count": 27,
   "metadata": {},
   "outputs": [
    {
     "data": {
      "image/png": "[encoded data removed]",
      "text/plain": [
       "<Figure size 432x288 with 1 Axes>"
      ]
     },
     "metadata": {
      "needs_background": "light"
     },
     "output_type": "display_data"
    }
   ],
   "source": [
    "k_means_optimum = KMeans(n_clusters = 4, init = 'k-means++',  random_state=42)#42\n",
    "k_means_optimum.fit(X)\n",
    "y = k_means_optimum.fit_predict(X)\n",
    "\n",
    "#colors = ['r','b','y','g']\n",
    "\n",
    "#centroids = k_means_optimum.cluster_centers_\n",
    "#labels = k_means_optimum.labels_\n",
    "\n",
    "#print(centroids)\n",
    "#print(labels)\n",
    "\n",
    "\n",
    "colors = []\n",
    "for i in k_means_optimum.labels_:\n",
    "  if i == 0:\n",
    "    colors.append('magenta')\n",
    "  elif i == 1:\n",
    "    colors.append('green')\n",
    "  elif i == 2:\n",
    "    colors.append('blue')\n",
    "  elif i == 3:\n",
    "    colors.append('black')\n",
    "\n",
    "# Plot the data\n",
    "plt.scatter(X[:, 0], \n",
    "            X[:, 1], \n",
    "           c=colors)\n",
    "\n",
    "# Plot the clusters \n",
    "plt.scatter(k_means_optimum.cluster_centers_[:, 0], \n",
    "            k_means_optimum.cluster_centers_[:, 1], \n",
    "            s=100,                             # Set centroid size\n",
    "            c='red')                           # Set centroid color\n",
    "\n",
    "plt.xlabel(\"Density\")\n",
    "plt.ylabel(\"Average Speed\")\n",
    "plt.show()\n",
    "\n",
    "#print(y)"
   ]
  },
  {
   "cell_type": "code",
   "execution_count": null,
   "metadata": {},
   "outputs": [],
   "source": []
  }
 ],
 "metadata": {
  "kernelspec": {
   "display_name": "Python 3",
   "language": "python",
   "name": "python3"
  },
  "language_info": {
   "codemirror_mode": {
    "name": "ipython",
    "version": 3
   },
   "file_extension": ".py",
   "mimetype": "text/x-python",
   "name": "python",
   "nbconvert_exporter": "python",
   "pygments_lexer": "ipython3",
   "version": "3.7.4"
  }
 },
 "nbformat": 4,
 "nbformat_minor": 2
}
